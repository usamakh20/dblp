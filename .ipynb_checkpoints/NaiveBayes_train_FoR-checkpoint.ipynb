{
 "cells": [
  {
   "cell_type": "code",
   "execution_count": 4,
   "metadata": {},
   "outputs": [],
   "source": [
    "# Import train_test_split function\n",
    "# Import Gaussian Naive Bayes model\n",
    "# Import LabelEncoder\n",
    "from sklearn.model_selection import train_test_split\n",
    "from sklearn.naive_bayes import GaussianNB\n",
    "from sklearn.preprocessing import LabelEncoder\n",
    "import pandas as pd"
   ]
  },
  {
   "cell_type": "code",
   "execution_count": 6,
   "metadata": {
    "pycharm": {
     "name": "#%%\n"
    }
   },
   "outputs": [
    {
     "name": "stdout",
     "output_type": "stream",
     "text": [
      "       id  year  count  label\n",
      "0       8  1980     85      0\n",
      "1       8  1981    140      1\n",
      "2       8  1983    121      1\n",
      "3       8  1984    130      1\n",
      "4       8  1985    166      1\n",
      "..    ...   ...    ...    ...\n",
      "653  1203  2015    149      1\n",
      "654  1203  2016    148      1\n",
      "655  1203  2017    158      1\n",
      "656  1203  2018    122      1\n",
      "657  1203  2019    115      1\n",
      "\n",
      "[658 rows x 4 columns]\n"
     ]
    }
   ],
   "source": [
    "# Load dataset\n",
    "FoR_df = pd.read_csv('ML_data/FoR_bin_100.csv')\n",
    "print(FoR_df)"
   ]
  },
  {
   "cell_type": "code",
   "execution_count": 8,
   "metadata": {
    "pycharm": {
     "name": "#%%\n"
    }
   },
   "outputs": [
    {
     "name": "stdout",
     "output_type": "stream",
     "text": [
      "     id  year  count  label\n",
      "0     0    27     60      0\n",
      "1     0    28     86      1\n",
      "2     0    30     76      1\n",
      "3     0    31     80      1\n",
      "4     0    32     99      1\n",
      "..   ..   ...    ...    ...\n",
      "653  16    62     92      1\n",
      "654  16    63     91      1\n",
      "655  16    64     97      1\n",
      "656  16    65     77      1\n",
      "657  16    66     73      1\n",
      "\n",
      "[658 rows x 4 columns]\n"
     ]
    }
   ],
   "source": [
    "# creating labelEncoder\n",
    "le = LabelEncoder()\n",
    "\n",
    "# Converting string labels into numbers.\n",
    "FoR_df_encoded = FoR_df.apply(le.fit_transform)\n",
    "print(FoR_df_encoded)"
   ]
  },
  {
   "cell_type": "code",
   "execution_count": null,
   "metadata": {
    "pycharm": {
     "name": "#%%\n"
    }
   },
   "outputs": [],
   "source": [
    "# Split dataset into training set and test set\n",
    "X_train, X_test, y_train, y_test = train_test_split(FoR_df_encoded[['id','year']].values, FoR_df['label'].values, test_size=0.3)  # 70% training and 30% test"
   ]
  },
  {
   "cell_type": "code",
   "execution_count": null,
   "metadata": {
    "pycharm": {
     "name": "#%%\n"
    }
   },
   "outputs": [],
   "source": [
    "# Create a Gaussian Classifier\n",
    "gnb = GaussianNB()\n",
    "\n",
    "# Train the model using the training sets\n",
    "gnb.fit(X_train, y_train)"
   ]
  },
  {
   "cell_type": "code",
   "execution_count": null,
   "metadata": {
    "pycharm": {
     "name": "#%%\n"
    }
   },
   "outputs": [],
   "source": [
    "# Model Accuracy, how often is the classifier correct?\n",
    "print(\"Accuracy on Test: \",gnb.score(X_test,y_test))\n",
    "print(\"Accuracy on Train: \",gnb.score(X_train,y_train))"
   ]
  },
  {
   "cell_type": "code",
   "execution_count": null,
   "metadata": {
    "pycharm": {
     "name": "#%%\n"
    }
   },
   "outputs": [],
   "source": [
    "print(gnb.predict([[0,3]]))\n"
   ]
  }
 ],
 "metadata": {
  "kernelspec": {
   "display_name": "Python 3",
   "language": "python",
   "name": "python3"
  },
  "language_info": {
   "codemirror_mode": {
    "name": "ipython",
    "version": 3
   },
   "file_extension": ".py",
   "mimetype": "text/x-python",
   "name": "python",
   "nbconvert_exporter": "python",
   "pygments_lexer": "ipython3",
   "version": "3.6.9"
  },
  "pycharm": {
   "stem_cell": {
    "cell_type": "raw",
    "metadata": {
     "collapsed": false
    },
    "source": []
   }
  }
 },
 "nbformat": 4,
 "nbformat_minor": 1
}
